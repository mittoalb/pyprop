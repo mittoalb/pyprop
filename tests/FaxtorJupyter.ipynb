{
 "cells": [
  {
   "cell_type": "code",
   "execution_count": 3,
   "id": "85fbcd89-a542-49a5-8bf1-5568483a4dff",
   "metadata": {},
   "outputs": [],
   "source": [
    "import numpy as np\n",
    "import scipy.ndimage\n",
    "import copy\n",
    "import random\n",
    "\n",
    "from math import sqrt\n",
    "import sys\n",
    "#import scipy\n",
    "from scipy import signal\n",
    "\n",
    "from pyprop import rw\n",
    "from pyprop import propagator as pb\n",
    "from pyprop import models\n",
    "from math import sqrt\n",
    "\n",
    "import matplotlib.pyplot as plt\n"
   ]
  },
  {
   "cell_type": "code",
   "execution_count": 14,
   "id": "8ca70624-1787-4329-a8a8-527d10d81187",
   "metadata": {},
   "outputs": [
    {
     "name": "stdout",
     "output_type": "stream",
     "text": [
      "6.70778e-07 3.39441e-10\n",
      "Summing up: 30.261036810182212 0.12251948032827291\n",
      "Summing up: 29.94484295516265 0.9105221494677066\n",
      "Summing up: 29.981644288020657 0.9896723986364364\n",
      "Summing up: 30.05940435408195 0.8969733565445507\n",
      "Summing up: 29.99608356807099 0.9995275151758064\n",
      "Summing up: 30.157516616127918 0.46557929764430855\n",
      "Summing up: 30.03897430855381 0.9542761462780016\n",
      "Summing up: 29.850790652431137 0.5036044758413647\n",
      "Summing up: 30.001781923537006 0.9999021713180128\n",
      "Summing up: 30.032692735484176 0.9676048143175231\n",
      "Summing up: 30.296305984516007 0.06686078869270062\n",
      "Summing up: 30.131003116534576 0.5893252621916151\n",
      "Summing up: 29.924600584971103 0.8393192200267363\n",
      "Summing up: 30.142432350658723 0.5352255439224951\n",
      "Summing up: 29.926064181226938 0.8449905278337387\n",
      "Summing up: 30.088669778920657 0.7848613462516348\n",
      "Summing up: 29.911270241844473 0.7846040790191847\n",
      "Summing up: 29.912329079987224 0.7891324288617505\n",
      "Summing up: 29.982981566239598 0.9911159260790665\n",
      "Summing up: 30.18630718387532 0.34319043289274553\n"
     ]
    }
   ],
   "source": [
    "energy = 30. #in keV\n",
    "px_size = 1e-6 #in m\n",
    "#nn = int(i)/10.\n",
    "thickness = 0.1e-3\n",
    "distance = 0.5 #in m\n",
    "source_distance = 37. #in m\n",
    "source_size_V, source_size_H = 8.5e-6, 140e-6 #in um - SIGMAS\n",
    "counts_on_pixel = 50000\n",
    "delta = 6.70778e-07 #PMMA\n",
    "beta  = 3.39441e-10 #PMMA\n",
    "field_size = 400\n",
    "sphere_radius = 20.\n",
    "\n",
    "print(delta,beta)\n",
    "#SPHERE EXAMPLE - (energy,size,R,pixelsize,delta,beta)\n",
    "fields1, _, _ = models.testSphere(energy, field_size, sphere_radius, px_size, delta, beta)\n",
    "\n",
    "#DO PADDING\n",
    "oxps, oyps = fields1.shape\n",
    "fields1 = np.pad(fields1,[oyps,oxps],'edge')\t\n",
    "#Polychromatic beam\n",
    "numberofevents = 20 #number of energies to sum\n",
    "MD = 1e-2\t     #energy bandwidth\n",
    "\n",
    "pro = pb.propagators(px_size,energy,distance,1)\n",
    "pro.preparefresnel2D(fields1)\n",
    "pro.SRsource([source_size_V, source_size_H],source_distance) #prepare the SR source 20 x 100 um\n",
    "\n",
    "#to save data\n",
    "#rw.write_tif(\"OriginalField.tif\",np.real(fields1[oyps:-oyps,oxps:-oxps]))\n",
    "\n",
    "\n",
    "fieldIntensity = pro.polybeamMC(fields1,numberofevents,MD)            #POLYCHROMATICITY\n",
    "fieldIntensity = pro.AddDetectorBlurring(1.4,fieldIntensity)          #DETECTOR BLURRRING - SIGMA\n",
    "fieldIntensity = pro.AddDetectorNoise(counts_on_pixel,fieldIntensity) #POISSON NOISE\n",
    "name = \"Out\" + str('%4.4f' % 2.3) + \"m.tif\"\n",
    "fieldIntensity = fieldIntensity[oyps:-oyps,oxps:-oxps]"
   ]
  },
  {
   "cell_type": "code",
   "execution_count": 17,
   "id": "183ce722-1891-4d5a-a48e-92e03a27d5f3",
   "metadata": {},
   "outputs": [
    {
     "ename": "AttributeError",
     "evalue": "'Figure' object has no attribute 'set_title'",
     "output_type": "error",
     "traceback": [
      "\u001b[0;31m---------------------------------------------------------------------------\u001b[0m",
      "\u001b[0;31mAttributeError\u001b[0m                            Traceback (most recent call last)",
      "Cell \u001b[0;32mIn[17], line 6\u001b[0m\n\u001b[1;32m      4\u001b[0m f\u001b[38;5;241m.\u001b[39madd_subplot(\u001b[38;5;241m1\u001b[39m,\u001b[38;5;241m2\u001b[39m,\u001b[38;5;241m1\u001b[39m)\n\u001b[1;32m      5\u001b[0m plt\u001b[38;5;241m.\u001b[39mimshow(np\u001b[38;5;241m.\u001b[39mreal(fields1[oyps:\u001b[38;5;241m-\u001b[39moyps,oxps:\u001b[38;5;241m-\u001b[39moxps]),cmap\u001b[38;5;241m=\u001b[39m\u001b[38;5;124m'\u001b[39m\u001b[38;5;124mgray\u001b[39m\u001b[38;5;124m'\u001b[39m)\n\u001b[0;32m----> 6\u001b[0m \u001b[43mf\u001b[49m\u001b[38;5;241;43m.\u001b[39;49m\u001b[43mset_title\u001b[49m(\u001b[38;5;124m\"\u001b[39m\u001b[38;5;124mTitle for first plot\u001b[39m\u001b[38;5;124m\"\u001b[39m)\n\u001b[1;32m      7\u001b[0m f\u001b[38;5;241m.\u001b[39madd_subplot(\u001b[38;5;241m1\u001b[39m,\u001b[38;5;241m2\u001b[39m,\u001b[38;5;241m2\u001b[39m)\n\u001b[1;32m      8\u001b[0m plt\u001b[38;5;241m.\u001b[39mimshow(fieldIntensity,cmap\u001b[38;5;241m=\u001b[39m\u001b[38;5;124m'\u001b[39m\u001b[38;5;124mgray\u001b[39m\u001b[38;5;124m'\u001b[39m)\n",
      "\u001b[0;31mAttributeError\u001b[0m: 'Figure' object has no attribute 'set_title'"
     ]
    },
    {
     "data": {
      "image/png": "[encoded data removed]",
      "text/plain": [
       "<Figure size 640x480 with 1 Axes>"
      ]
     },
     "metadata": {},
     "output_type": "display_data"
    }
   ],
   "source": [
    "#rw.write_tif(name,fieldIntensity))\n",
    "\n",
    "f = plt.figure()\n",
    "f.add_subplot(1,2,1)\n",
    "plt.imshow(np.real(fields1[oyps:-oyps,oxps:-oxps]),cmap='gray')\n",
    "f.add_subplot(1,2,2)\n",
    "plt.imshow(fieldIntensity,cmap='gray')\n",
    "plt.show(block=True)        "
   ]
  },
  {
   "cell_type": "code",
   "execution_count": null,
   "id": "7b0b1978-d484-4c86-be6d-5d0721a5bd6f",
   "metadata": {},
   "outputs": [],
   "source": []
  }
 ],
 "metadata": {
  "kernelspec": {
   "display_name": "pyprop",
   "language": "python",
   "name": "pyprop"
  },
  "language_info": {
   "codemirror_mode": {
    "name": "ipython",
    "version": 3
   },
   "file_extension": ".py",
   "mimetype": "text/x-python",
   "name": "python",
   "nbconvert_exporter": "python",
   "pygments_lexer": "ipython3",
   "version": "3.11.0"
  }
 },
 "nbformat": 4,
 "nbformat_minor": 5
}
